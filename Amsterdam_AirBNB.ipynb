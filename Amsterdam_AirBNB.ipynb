{
 "cells": [
  {
   "cell_type": "markdown",
   "metadata": {},
   "source": [
    "# Data import\n",
    "\n",
    " Data we import, curtoasy of AirBnB europe, from [here](http://insideairbnb.com/get-the-data.html) . In the original data I have replaced the commas in some of the columns with colon sign, so that pd.read_csv works without issues.  We do notice that underscore signs are seen as '+AF8-', while dash line is seen as '+AC0-' . A search on forums shows that this is `utf-7` encoding, so I gave this info to read_csv function."
   ]
  },
  {
   "cell_type": "code",
   "execution_count": 88,
   "metadata": {
    "scrolled": true
   },
   "outputs": [
    {
     "data": {
      "text/html": [
       "<div>\n",
       "<style>\n",
       "    .dataframe thead tr:only-child th {\n",
       "        text-align: right;\n",
       "    }\n",
       "\n",
       "    .dataframe thead th {\n",
       "        text-align: left;\n",
       "    }\n",
       "\n",
       "    .dataframe tbody tr th {\n",
       "        vertical-align: top;\n",
       "    }\n",
       "</style>\n",
       "<table border=\"1\" class=\"dataframe\">\n",
       "  <thead>\n",
       "    <tr style=\"text-align: right;\">\n",
       "      <th></th>\n",
       "      <th>id</th>\n",
       "      <th>name</th>\n",
       "      <th>host_id</th>\n",
       "      <th>host_name</th>\n",
       "      <th>neighbourhood_group</th>\n",
       "      <th>neighbourhood</th>\n",
       "      <th>latitude</th>\n",
       "      <th>longitude</th>\n",
       "      <th>room_type</th>\n",
       "      <th>price</th>\n",
       "      <th>minimum_nights</th>\n",
       "      <th>number_of_reviews</th>\n",
       "      <th>last_review</th>\n",
       "      <th>reviews_per_month</th>\n",
       "      <th>calculated_host_listings_count</th>\n",
       "      <th>availability_365</th>\n",
       "    </tr>\n",
       "  </thead>\n",
       "  <tbody>\n",
       "    <tr>\n",
       "      <th>0</th>\n",
       "      <td>2818</td>\n",
       "      <td>Quiet Garden View Room &amp; Super Fast WiFi</td>\n",
       "      <td>3159</td>\n",
       "      <td>Daniel</td>\n",
       "      <td>NaN</td>\n",
       "      <td>Oostelijk Havengebied - Indische Buurt</td>\n",
       "      <td>52.365755</td>\n",
       "      <td>4.9414192352</td>\n",
       "      <td>Private room</td>\n",
       "      <td>59.0</td>\n",
       "      <td>3.0</td>\n",
       "      <td>248</td>\n",
       "      <td>2018-11-28</td>\n",
       "      <td>2.10</td>\n",
       "      <td>1.0</td>\n",
       "      <td>44.0</td>\n",
       "    </tr>\n",
       "    <tr>\n",
       "      <th>1</th>\n",
       "      <td>3209</td>\n",
       "      <td>Quiet apt near center: great view</td>\n",
       "      <td>3806</td>\n",
       "      <td>Maartje</td>\n",
       "      <td>NaN</td>\n",
       "      <td>Westerpark</td>\n",
       "      <td>52.390225</td>\n",
       "      <td>4.8739240947</td>\n",
       "      <td>Entire home/apt</td>\n",
       "      <td>160.0</td>\n",
       "      <td>4.0</td>\n",
       "      <td>42</td>\n",
       "      <td>2018-08-29</td>\n",
       "      <td>1.03</td>\n",
       "      <td>1.0</td>\n",
       "      <td>47.0</td>\n",
       "    </tr>\n",
       "    <tr>\n",
       "      <th>2</th>\n",
       "      <td>20168</td>\n",
       "      <td>100%Centre-Studio 1 Private Floor/Bathroom</td>\n",
       "      <td>59484</td>\n",
       "      <td>Alex</td>\n",
       "      <td>NaN</td>\n",
       "      <td>Centrum-Oost</td>\n",
       "      <td>52.365087</td>\n",
       "      <td>4.8935410078</td>\n",
       "      <td>Entire home/apt</td>\n",
       "      <td>80.0</td>\n",
       "      <td>1.0</td>\n",
       "      <td>233</td>\n",
       "      <td>2018-11-30</td>\n",
       "      <td>2.18</td>\n",
       "      <td>2.0</td>\n",
       "      <td>198.0</td>\n",
       "    </tr>\n",
       "    <tr>\n",
       "      <th>3</th>\n",
       "      <td>25428</td>\n",
       "      <td>Lovely apt in City Centre (Jordaan)</td>\n",
       "      <td>56142</td>\n",
       "      <td>Joan</td>\n",
       "      <td>NaN</td>\n",
       "      <td>Centrum-West</td>\n",
       "      <td>52.373114</td>\n",
       "      <td>4.8836681962</td>\n",
       "      <td>Entire home/apt</td>\n",
       "      <td>125.0</td>\n",
       "      <td>14.0</td>\n",
       "      <td>1</td>\n",
       "      <td>2018-01-21</td>\n",
       "      <td>0.09</td>\n",
       "      <td>2.0</td>\n",
       "      <td>141.0</td>\n",
       "    </tr>\n",
       "    <tr>\n",
       "      <th>4</th>\n",
       "      <td>27886</td>\n",
       "      <td>Romantic: stylish B&amp;B houseboat in canal district</td>\n",
       "      <td>97647</td>\n",
       "      <td>Flip</td>\n",
       "      <td>NaN</td>\n",
       "      <td>Centrum-West</td>\n",
       "      <td>52.386727</td>\n",
       "      <td>4.8920780701</td>\n",
       "      <td>Private room</td>\n",
       "      <td>150.0</td>\n",
       "      <td>2.0</td>\n",
       "      <td>171</td>\n",
       "      <td>2018-11-25</td>\n",
       "      <td>2.03</td>\n",
       "      <td>1.0</td>\n",
       "      <td>199.0</td>\n",
       "    </tr>\n",
       "  </tbody>\n",
       "</table>\n",
       "</div>"
      ],
      "text/plain": [
       "      id                                               name host_id host_name  \\\n",
       "0   2818           Quiet Garden View Room & Super Fast WiFi    3159    Daniel   \n",
       "1   3209                  Quiet apt near center: great view    3806   Maartje   \n",
       "2  20168         100%Centre-Studio 1 Private Floor/Bathroom   59484      Alex   \n",
       "3  25428                Lovely apt in City Centre (Jordaan)   56142      Joan   \n",
       "4  27886  Romantic: stylish B&B houseboat in canal district   97647      Flip   \n",
       "\n",
       "  neighbourhood_group                           neighbourhood   latitude  \\\n",
       "0                 NaN  Oostelijk Havengebied - Indische Buurt  52.365755   \n",
       "1                 NaN                              Westerpark  52.390225   \n",
       "2                 NaN                            Centrum-Oost  52.365087   \n",
       "3                 NaN                            Centrum-West  52.373114   \n",
       "4                 NaN                            Centrum-West  52.386727   \n",
       "\n",
       "      longitude        room_type  price  minimum_nights number_of_reviews  \\\n",
       "0  4.9414192352     Private room   59.0             3.0               248   \n",
       "1  4.8739240947  Entire home/apt  160.0             4.0                42   \n",
       "2  4.8935410078  Entire home/apt   80.0             1.0               233   \n",
       "3  4.8836681962  Entire home/apt  125.0            14.0                 1   \n",
       "4  4.8920780701     Private room  150.0             2.0               171   \n",
       "\n",
       "  last_review  reviews_per_month  calculated_host_listings_count  \\\n",
       "0  2018-11-28               2.10                             1.0   \n",
       "1  2018-08-29               1.03                             1.0   \n",
       "2  2018-11-30               2.18                             2.0   \n",
       "3  2018-01-21               0.09                             2.0   \n",
       "4  2018-11-25               2.03                             1.0   \n",
       "\n",
       "   availability_365  \n",
       "0              44.0  \n",
       "1              47.0  \n",
       "2             198.0  \n",
       "3             141.0  \n",
       "4             199.0  "
      ]
     },
     "execution_count": 88,
     "metadata": {},
     "output_type": "execute_result"
    }
   ],
   "source": [
    "import numpy as np\n",
    "import pandas as pd\n",
    "import matplotlib.pyplot as plt\n",
    "import seaborn as sns\n",
    "from datetime import datetime\n",
    "from dateutil.parser import parse\n",
    "%matplotlib inline\n",
    "\n",
    "df = pd.read_csv('./Amsterdam_data_cr.csv',encoding='utf-7')\n",
    "df.head()"
   ]
  },
  {
   "cell_type": "markdown",
   "metadata": {
    "collapsed": true
   },
   "source": [
    " Let's take a look at missing values, see how many are there ."
   ]
  },
  {
   "cell_type": "code",
   "execution_count": 89,
   "metadata": {},
   "outputs": [
    {
     "data": {
      "text/plain": [
       "id                                20048\n",
       "name                              20010\n",
       "host_id                           20030\n",
       "host_name                         20008\n",
       "neighbourhood_group                  18\n",
       "neighbourhood                     20030\n",
       "latitude                          20030\n",
       "longitude                         20030\n",
       "room_type                         20030\n",
       "price                             20030\n",
       "minimum_nights                    20030\n",
       "number_of_reviews                 20029\n",
       "last_review                       17624\n",
       "reviews_per_month                 17625\n",
       "calculated_host_listings_count    20030\n",
       "availability_365                  20012\n",
       "dtype: int64"
      ]
     },
     "execution_count": 89,
     "metadata": {},
     "output_type": "execute_result"
    }
   ],
   "source": [
    "df.count()"
   ]
  },
  {
   "cell_type": "markdown",
   "metadata": {},
   "source": [
    " We do noticed that ** neighbourhood_group ** is quite missing there, so we better remove that column, there is no use of it.  Number of reviews and last_review we probably would better keep it, it may prove important , we will see later. Also , ** id ** and ** host_id ** I do not see their relevance in our quest , so we drop them too. ** LAtitude ** and  ** longitude ** I think I will drop them, since we have the neighbourhood that would play much more importance than the actual physical position. ** host_name ** should have no importance here."
   ]
  },
  {
   "cell_type": "code",
   "execution_count": 90,
   "metadata": {},
   "outputs": [
    {
     "data": {
      "text/plain": [
       "name                              20010\n",
       "neighbourhood                     20030\n",
       "room_type                         20030\n",
       "price                             20030\n",
       "minimum_nights                    20030\n",
       "number_of_reviews                 20029\n",
       "last_review                       17624\n",
       "reviews_per_month                 17625\n",
       "calculated_host_listings_count    20030\n",
       "availability_365                  20012\n",
       "dtype: int64"
      ]
     },
     "execution_count": 90,
     "metadata": {},
     "output_type": "execute_result"
    }
   ],
   "source": [
    "df_1 = df.drop(['neighbourhood_group','id','host_id','latitude','longitude','host_name'],axis=1)\n",
    "df_1.count()"
   ]
  },
  {
   "cell_type": "markdown",
   "metadata": {},
   "source": [
    "# Missing values \n",
    "  Which columns have no missing values : "
   ]
  },
  {
   "cell_type": "code",
   "execution_count": 91,
   "metadata": {},
   "outputs": [
    {
     "name": "stdout",
     "output_type": "stream",
     "text": [
      "set()\n"
     ]
    }
   ],
   "source": [
    "print(set(c for c in df_1.columns if df_1[c].count()==df_1.shape[0]))"
   ]
  },
  {
   "cell_type": "markdown",
   "metadata": {},
   "source": [
    " It looks like none of the columns is without missing values. In this case, let's see where we end-up if we remove all the rows with missing values."
   ]
  },
  {
   "cell_type": "code",
   "execution_count": 108,
   "metadata": {},
   "outputs": [],
   "source": [
    "df_2 = df_1.dropna(axis=0)"
   ]
  },
  {
   "cell_type": "code",
   "execution_count": 109,
   "metadata": {},
   "outputs": [
    {
     "data": {
      "text/plain": [
       "(17580, 10)"
      ]
     },
     "execution_count": 109,
     "metadata": {},
     "output_type": "execute_result"
    }
   ],
   "source": [
    "df_2.shape"
   ]
  },
  {
   "cell_type": "markdown",
   "metadata": {},
   "source": [
    " It looks like there are still remaining 80% of the rows, so I think is good enough to work without those . I will use df_2 from now on for the investigation. We could impute values to the missing rows if too many would be missing, but most missing are ** reviews_per_month ** , which measn we would have to impute values to those locations perhaps using the average , but it would be a significant portion and could bias the result signficantly."
   ]
  },
  {
   "cell_type": "markdown",
   "metadata": {},
   "source": [
    "# A look at the data\n",
    "\n",
    " A couple of thigs we can invaestigate further :\n",
    " * how many neighbourhoods are there\n",
    " * how many types of rooms are there\n",
    " * are last reviews and host_names significant for keeping the information"
   ]
  },
  {
   "cell_type": "code",
   "execution_count": 110,
   "metadata": {},
   "outputs": [
    {
     "name": "stdout",
     "output_type": "stream",
     "text": [
      "count                      17580\n",
      "unique                        22\n",
      "top       De Baarsjes - Oud-West\n",
      "freq                        3135\n",
      "Name: neighbourhood, dtype: object\n",
      "['Oostelijk Havengebied - Indische Buurt' 'Westerpark' 'Centrum-Oost'\n",
      " 'Centrum-West' 'Bos en Lommer' 'Zuid' 'De Pijp - Rivierenbuurt'\n",
      " 'De Baarsjes - Oud-West' 'Oud-Oost' 'Slotervaart' 'Gaasperdam - Driemond'\n",
      " 'Oud-Noord' 'Noord-Oost' 'Watergraafsmeer' 'IJburg - Zeeburgereiland'\n",
      " 'Geuzenveld - Slotermeer' 'Buitenveldert - Zuidas' 'Bijlmer-Oost'\n",
      " 'Noord-West' 'De Aker - Nieuw Sloten' 'Osdorp' 'Bijlmer-Centrum']\n",
      "De Baarsjes - Oud-West                    3135\n",
      "De Pijp - Rivierenbuurt                   2180\n",
      "Centrum-West                              2088\n",
      "Centrum-Oost                              1503\n",
      "Westerpark                                1329\n",
      "Zuid                                      1227\n",
      "Oud-Oost                                  1162\n",
      "Bos en Lommer                             1011\n",
      "Oostelijk Havengebied - Indische Buurt     853\n",
      "Oud-Noord                                  507\n",
      "Watergraafsmeer                            460\n",
      "IJburg - Zeeburgereiland                   377\n",
      "Slotervaart                                339\n",
      "Noord-West                                 276\n",
      "Noord-Oost                                 215\n",
      "Buitenveldert - Zuidas                     204\n",
      "Geuzenveld - Slotermeer                    175\n",
      "Osdorp                                     142\n",
      "De Aker - Nieuw Sloten                     113\n",
      "Gaasperdam - Driemond                      111\n",
      "Bijlmer-Centrum                             90\n",
      "Bijlmer-Oost                                83\n",
      "Name: neighbourhood, dtype: int64\n"
     ]
    }
   ],
   "source": [
    "print( df_2['neighbourhood'].describe())\n",
    "print( df_2['neighbourhood'].unique() )\n",
    "print(df_2['neighbourhood'].value_counts())"
   ]
  },
  {
   "cell_type": "code",
   "execution_count": 111,
   "metadata": {},
   "outputs": [
    {
     "name": "stdout",
     "output_type": "stream",
     "text": [
      "count               17580\n",
      "unique                  3\n",
      "top       Entire home/apt\n",
      "freq                13944\n",
      "Name: room_type, dtype: object\n",
      "['Private room' 'Entire home/apt' 'Shared room']\n",
      "Entire home/apt    13944\n",
      "Private room        3579\n",
      "Shared room           57\n",
      "Name: room_type, dtype: int64\n"
     ]
    }
   ],
   "source": [
    "print( df_2['room_type'].describe())\n",
    "print( df_2['room_type'].unique() )\n",
    "print(df_2['room_type'].value_counts())"
   ]
  },
  {
   "cell_type": "code",
   "execution_count": 112,
   "metadata": {},
   "outputs": [
    {
     "name": "stderr",
     "output_type": "stream",
     "text": [
      "D:\\python\\anaconda\\lib\\site-packages\\ipykernel_launcher.py:1: SettingWithCopyWarning: \n",
      "A value is trying to be set on a copy of a slice from a DataFrame.\n",
      "Try using .loc[row_indexer,col_indexer] = value instead\n",
      "\n",
      "See the caveats in the documentation: http://pandas.pydata.org/pandas-docs/stable/indexing.html#indexing-view-versus-copy\n",
      "  \"\"\"Entry point for launching an IPython kernel.\n"
     ]
    }
   ],
   "source": [
    "df_2['last_review'] = df_2['last_review'].apply(lambda s: datetime.strptime(s,'%Y-%M-%d').timestamp()/86400)"
   ]
  },
  {
   "cell_type": "code",
   "execution_count": 115,
   "metadata": {
    "collapsed": true
   },
   "outputs": [],
   "source": [
    "lr_min = df_2['last_review'].min()"
   ]
  },
  {
   "cell_type": "code",
   "execution_count": 116,
   "metadata": {},
   "outputs": [
    {
     "name": "stderr",
     "output_type": "stream",
     "text": [
      "D:\\python\\anaconda\\lib\\site-packages\\ipykernel_launcher.py:1: SettingWithCopyWarning: \n",
      "A value is trying to be set on a copy of a slice from a DataFrame.\n",
      "Try using .loc[row_indexer,col_indexer] = value instead\n",
      "\n",
      "See the caveats in the documentation: http://pandas.pydata.org/pandas-docs/stable/indexing.html#indexing-view-versus-copy\n",
      "  \"\"\"Entry point for launching an IPython kernel.\n"
     ]
    }
   ],
   "source": [
    "df_2['last_review'] = df_2['last_review'].apply(lambda v: v-lr_min)"
   ]
  },
  {
   "cell_type": "code",
   "execution_count": 117,
   "metadata": {},
   "outputs": [
    {
     "data": {
      "text/plain": [
       "<matplotlib.axes._subplots.AxesSubplot at 0x18920cec080>"
      ]
     },
     "execution_count": 117,
     "metadata": {},
     "output_type": "execute_result"
    },
    {
     "data": {
      "image/png": "[encoded data removed]",
      "text/plain": [
       "<matplotlib.figure.Figure at 0x189214605f8>"
      ]
     },
     "metadata": {},
     "output_type": "display_data"
    }
   ],
   "source": [
    "df_2.boxplot(rot=90)"
   ]
  },
  {
   "cell_type": "code",
   "execution_count": 118,
   "metadata": {},
   "outputs": [
    {
     "data": {
      "text/html": [
       "<div>\n",
       "<style>\n",
       "    .dataframe thead tr:only-child th {\n",
       "        text-align: right;\n",
       "    }\n",
       "\n",
       "    .dataframe thead th {\n",
       "        text-align: left;\n",
       "    }\n",
       "\n",
       "    .dataframe tbody tr th {\n",
       "        vertical-align: top;\n",
       "    }\n",
       "</style>\n",
       "<table border=\"1\" class=\"dataframe\">\n",
       "  <thead>\n",
       "    <tr style=\"text-align: right;\">\n",
       "      <th></th>\n",
       "      <th>price</th>\n",
       "      <th>minimum_nights</th>\n",
       "      <th>last_review</th>\n",
       "      <th>reviews_per_month</th>\n",
       "      <th>calculated_host_listings_count</th>\n",
       "      <th>availability_365</th>\n",
       "    </tr>\n",
       "  </thead>\n",
       "  <tbody>\n",
       "    <tr>\n",
       "      <th>count</th>\n",
       "      <td>17580.000000</td>\n",
       "      <td>17580.000000</td>\n",
       "      <td>17580.000000</td>\n",
       "      <td>17580.000000</td>\n",
       "      <td>17580.000000</td>\n",
       "      <td>17580.000000</td>\n",
       "    </tr>\n",
       "    <tr>\n",
       "      <th>mean</th>\n",
       "      <td>148.746246</td>\n",
       "      <td>3.175142</td>\n",
       "      <td>2427.874786</td>\n",
       "      <td>1.063422</td>\n",
       "      <td>4.348692</td>\n",
       "      <td>59.328726</td>\n",
       "    </tr>\n",
       "    <tr>\n",
       "      <th>std</th>\n",
       "      <td>137.924186</td>\n",
       "      <td>12.436333</td>\n",
       "      <td>270.491480</td>\n",
       "      <td>1.334208</td>\n",
       "      <td>22.136466</td>\n",
       "      <td>102.564625</td>\n",
       "    </tr>\n",
       "    <tr>\n",
       "      <th>min</th>\n",
       "      <td>0.000000</td>\n",
       "      <td>1.000000</td>\n",
       "      <td>0.000000</td>\n",
       "      <td>0.010000</td>\n",
       "      <td>1.000000</td>\n",
       "      <td>0.000000</td>\n",
       "    </tr>\n",
       "    <tr>\n",
       "      <th>25%</th>\n",
       "      <td>96.000000</td>\n",
       "      <td>2.000000</td>\n",
       "      <td>2548.993056</td>\n",
       "      <td>0.270000</td>\n",
       "      <td>1.000000</td>\n",
       "      <td>0.000000</td>\n",
       "    </tr>\n",
       "    <tr>\n",
       "      <th>50%</th>\n",
       "      <td>125.000000</td>\n",
       "      <td>2.000000</td>\n",
       "      <td>2559.000000</td>\n",
       "      <td>0.620000</td>\n",
       "      <td>1.000000</td>\n",
       "      <td>4.000000</td>\n",
       "    </tr>\n",
       "    <tr>\n",
       "      <th>75%</th>\n",
       "      <td>175.000000</td>\n",
       "      <td>3.000000</td>\n",
       "      <td>2569.995139</td>\n",
       "      <td>1.230000</td>\n",
       "      <td>1.000000</td>\n",
       "      <td>68.000000</td>\n",
       "    </tr>\n",
       "    <tr>\n",
       "      <th>max</th>\n",
       "      <td>8500.000000</td>\n",
       "      <td>1001.000000</td>\n",
       "      <td>2578.999306</td>\n",
       "      <td>11.850000</td>\n",
       "      <td>208.000000</td>\n",
       "      <td>365.000000</td>\n",
       "    </tr>\n",
       "  </tbody>\n",
       "</table>\n",
       "</div>"
      ],
      "text/plain": [
       "              price  minimum_nights   last_review  reviews_per_month  \\\n",
       "count  17580.000000    17580.000000  17580.000000       17580.000000   \n",
       "mean     148.746246        3.175142   2427.874786           1.063422   \n",
       "std      137.924186       12.436333    270.491480           1.334208   \n",
       "min        0.000000        1.000000      0.000000           0.010000   \n",
       "25%       96.000000        2.000000   2548.993056           0.270000   \n",
       "50%      125.000000        2.000000   2559.000000           0.620000   \n",
       "75%      175.000000        3.000000   2569.995139           1.230000   \n",
       "max     8500.000000     1001.000000   2578.999306          11.850000   \n",
       "\n",
       "       calculated_host_listings_count  availability_365  \n",
       "count                    17580.000000      17580.000000  \n",
       "mean                         4.348692         59.328726  \n",
       "std                         22.136466        102.564625  \n",
       "min                          1.000000          0.000000  \n",
       "25%                          1.000000          0.000000  \n",
       "50%                          1.000000          4.000000  \n",
       "75%                          1.000000         68.000000  \n",
       "max                        208.000000        365.000000  "
      ]
     },
     "execution_count": 118,
     "metadata": {},
     "output_type": "execute_result"
    }
   ],
   "source": [
    "df_2.describe()"
   ]
  },
  {
   "cell_type": "code",
   "execution_count": 119,
   "metadata": {},
   "outputs": [
    {
     "data": {
      "image/png": "[encoded data removed]",
      "text/plain": [
       "<matplotlib.figure.Figure at 0x18920d0f710>"
      ]
     },
     "metadata": {},
     "output_type": "display_data"
    }
   ],
   "source": [
    "df_2['last_review'].plot();\n",
    "plt.title(\"last_review\");"
   ]
  },
  {
   "cell_type": "code",
   "execution_count": null,
   "metadata": {
    "collapsed": true
   },
   "outputs": [],
   "source": []
  }
 ],
 "metadata": {
  "kernelspec": {
   "display_name": "Python 3",
   "language": "python",
   "name": "python3"
  },
  "language_info": {
   "codemirror_mode": {
    "name": "ipython",
    "version": 3
   },
   "file_extension": ".py",
   "mimetype": "text/x-python",
   "name": "python",
   "nbconvert_exporter": "python",
   "pygments_lexer": "ipython3",
   "version": "3.6.3"
  }
 },
 "nbformat": 4,
 "nbformat_minor": 2
}
